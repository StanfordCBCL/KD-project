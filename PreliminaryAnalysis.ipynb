{
 "cells": [
  {
   "cell_type": "markdown",
   "metadata": {},
   "source": [
    "# Preliminary Analysis \n",
    "\n",
    "Analysis of artificial aneurysms introduced in the RCA with ASI = 2, at 3 positions, with 5 sizes per position"
   ]
  },
  {
   "cell_type": "code",
   "execution_count": 1,
   "metadata": {},
   "outputs": [],
   "source": [
    "import numpy as np\n",
    "import vtk\n",
    "from vtk.util import numpy_support as nps\n",
    "import pickle\n",
    "import matplotlib.pyplot as plt\n",
    "import seaborn as sns \n",
    "import pandas as pd\n",
    "import os "
   ]
  },
  {
   "cell_type": "code",
   "execution_count": 2,
   "metadata": {},
   "outputs": [],
   "source": [
    "from AneurysmGeneration.utils.batch import * \n"
   ]
  },
  {
   "cell_type": "markdown",
   "metadata": {},
   "source": [
    "Gotta read in the simulation results "
   ]
  },
  {
   "cell_type": "code",
   "execution_count": 3,
   "metadata": {},
   "outputs": [],
   "source": [
    "# define path\n",
    "results_path_base = 'Artificial/RCA/'\n",
    "source_path_base = 'AneurysmGeneration/models/SKD0050/'"
   ]
  },
  {
   "cell_type": "code",
   "execution_count": 4,
   "metadata": {},
   "outputs": [],
   "source": [
    "def return_polydata(path, return_reader=False):\n",
    "    '''\n",
    "        Given a file name, open and return the data\n",
    "    '''\n",
    "\n",
    "    print 'return polydata'\n",
    "\n",
    "\n",
    "    reader = vtk.vtkXMLPolyDataReader()\n",
    "    reader.SetFileName(path)\n",
    "    reader.Update()\n",
    "    polydata = reader.GetOutput()\n",
    "\n",
    "    if return_reader:\n",
    "        return (polydata, reader)\n",
    "\n",
    "    return polydata"
   ]
  },
  {
   "cell_type": "markdown",
   "metadata": {},
   "source": [
    "Read in the clipped aneurysms "
   ]
  },
  {
   "cell_type": "code",
   "execution_count": 5,
   "metadata": {},
   "outputs": [],
   "source": [
    "clipped_dir = 'clipped_results/'\n",
    "vessel = 'RCA/'\n",
    "zscores=[6, 8, 10, 12, 14]\n",
    "proximal = ['p1', 'p2', 'p3', 'p4', 'p5']\n",
    "medial = ['m1', 'm2', 'm3', 'm4', 'm5']\n",
    "distal = ['d1', 'd2', 'd3', 'd4']"
   ]
  },
  {
   "cell_type": "code",
   "execution_count": 6,
   "metadata": {},
   "outputs": [
    {
     "name": "stdout",
     "output_type": "stream",
     "text": [
      "return polydata\n",
      "return polydata\n",
      "return polydata\n",
      "return polydata\n",
      "return polydata\n",
      "return polydata\n",
      "return polydata\n",
      "return polydata\n",
      "return polydata\n",
      "return polydata\n",
      "return polydata\n",
      "return polydata\n",
      "return polydata\n",
      "return polydata\n"
     ]
    }
   ],
   "source": [
    "vtawss_dict = {}\n",
    "vtawss_avgs = np.zeros((3, 5))\n",
    "for i, position in enumerate([proximal, medial, distal]):\n",
    "    for j, size in enumerate(zscores): \n",
    "        if j >= len(position): continue\n",
    "        aneurysm = position[j]\n",
    "        path_to_clipped_result = clipped_dir + vessel + aneurysm + '.vtp'\n",
    "        clipped_result_polydata = return_polydata(path_to_clipped_result)\n",
    "        v_tawss = nps.vtk_to_numpy(clipped_result_polydata.GetPointData().GetArray('vTAWSS'))\n",
    "        vtawss_avgs[i, j] = np.mean(v_tawss)\n",
    "        vtawss_dict[(i, j)] = v_tawss\n",
    "        \n",
    "# for aneurysm in proximal + medial:\n",
    "#     print aneurysm\n",
    "#     path_to_clipped_result = clipped_dir + vessel + aneurysm + '.vtp'\n",
    "#     clipped_result_polydata = return_polydata(path_to_clipped_result)\n",
    "#     v_tawss = nps.vtk_to_numpy(clipped_result_polydata.GetPointData().GetArray('vTAWSS'))\n",
    "#     vtawss_dict[aneurysm] = np.mean(v_tawss)\n",
    "    "
   ]
  },
  {
   "cell_type": "code",
   "execution_count": 15,
   "metadata": {},
   "outputs": [
    {
     "name": "stdout",
     "output_type": "stream",
     "text": [
      "{'p2': 6.07174989229854, 'p3': 5.206429806529813, 'p1': 6.998043617719476, 'p4': 4.876249458564606, 'p5': 4.585406472982285, 'm5': 5.644561416716597, 'm4': 6.912220939381048, 'm1': 10.700187471532518, 'm3': 8.848821808063244, 'm2': 9.338163431605125}\n"
     ]
    }
   ],
   "source": [
    "print vtawss_dict\n"
   ]
  },
  {
   "cell_type": "code",
   "execution_count": 12,
   "metadata": {},
   "outputs": [
    {
     "name": "stdout",
     "output_type": "stream",
     "text": [
      "[[ 6.99804362  6.07174989  5.20642981  4.87624946  4.58540647]\n",
      " [10.70018747  9.33816343  8.84882181  6.91222094  5.64456142]\n",
      " [ 8.35430023  8.02121221  6.75150009  6.25617556  0.        ]]\n"
     ]
    }
   ],
   "source": [
    "print vtawss_avgs"
   ]
  },
  {
   "cell_type": "code",
   "execution_count": 17,
   "metadata": {},
   "outputs": [
    {
     "data": {
      "text/plain": [
       "<matplotlib.legend.Legend at 0x1a25e45510>"
      ]
     },
     "execution_count": 17,
     "metadata": {},
     "output_type": "execute_result"
    },
    {
     "data": {
      "image/png": "[encoded data removed]",
      "text/plain": [
       "<Figure size 432x288 with 1 Axes>"
      ]
     },
     "metadata": {},
     "output_type": "display_data"
    }
   ],
   "source": [
    "labels = ['prox', 'med', 'dist']\n",
    "plt.figure()\n",
    "for i in range(len([proximal, medial, distal])):\n",
    "    plt.plot(zscores, vtawss_avgs[i], label=labels[i])\n",
    "    \n",
    "plt.legend()\n"
   ]
  },
  {
   "cell_type": "code",
   "execution_count": 7,
   "metadata": {},
   "outputs": [
    {
     "name": "stdout",
     "output_type": "stream",
     "text": [
      "(3614,)\n"
     ]
    }
   ],
   "source": [
    "ss = vtawss_dict[(0, 0)]\n",
    "print ss.shape"
   ]
  },
  {
   "cell_type": "code",
   "execution_count": 10,
   "metadata": {},
   "outputs": [
    {
     "data": {
      "text/plain": [
       "[<matplotlib.lines.Line2D at 0x1a22ee1590>]"
      ]
     },
     "execution_count": 10,
     "metadata": {},
     "output_type": "execute_result"
    },
    {
     "data": {
      "image/png": "[encoded data removed]",
      "text/plain": [
       "<Figure size 432x288 with 1 Axes>"
      ]
     },
     "metadata": {},
     "output_type": "display_data"
    }
   ],
   "source": [
    "labels = [['p1', 'p2', 'p3', 'p4', 'p5'],\n",
    "          ['m1', 'm2', 'm3', 'm4', 'm5'],\n",
    "          ['d1', 'd2', 'd3', 'd4', 'd5']]\n",
    "\n",
    "ss_sorted = np.sort(ss)\n",
    "plt.plot(ss_sorted, np.array(range(len(ss)))/float(len(ss)))"
   ]
  },
  {
   "cell_type": "code",
   "execution_count": null,
   "metadata": {},
   "outputs": [],
   "source": []
  }
 ],
 "metadata": {
  "kernelspec": {
   "display_name": "Python 2",
   "language": "python",
   "name": "python2"
  },
  "language_info": {
   "codemirror_mode": {
    "name": "ipython",
    "version": 2
   },
   "file_extension": ".py",
   "mimetype": "text/x-python",
   "name": "python",
   "nbconvert_exporter": "python",
   "pygments_lexer": "ipython2",
   "version": "2.7.14"
  }
 },
 "nbformat": 4,
 "nbformat_minor": 2
}
